{
  "nbformat": 4,
  "nbformat_minor": 0,
  "metadata": {
    "kernelspec": {
      "display_name": "Python 3",
      "language": "python",
      "name": "python3"
    },
    "language_info": {
      "codemirror_mode": {
        "name": "ipython",
        "version": 3
      },
      "file_extension": ".py",
      "mimetype": "text/x-python",
      "name": "python",
      "nbconvert_exporter": "python",
      "pygments_lexer": "ipython3",
      "version": "3.7.4"
    },
    "colab": {
      "name": "Estimation_with_t_Distribution.ipynb",
      "provenance": [],
      "include_colab_link": true
    }
  },
  "cells": [
    {
      "cell_type": "markdown",
      "metadata": {
        "id": "view-in-github",
        "colab_type": "text"
      },
      "source": [
        "<a href=\"https://colab.research.google.com/github/NikhithaAlla/Nikhitha_Data690/blob/main/assignment_09/Estimation_with_t_Distribution.ipynb\" target=\"_parent\"><img src=\"https://colab.research.google.com/assets/colab-badge.svg\" alt=\"Open In Colab\"/></a>"
      ]
    },
    {
      "cell_type": "markdown",
      "metadata": {
        "id": "nQoNKsf9_b2O"
      },
      "source": [
        "## 13 - Estimation with t-distribution\n",
        "\n",
        "### z-Distribution vs t-Distribution\n",
        "\n",
        "z-distribution - when population standard deviation $\\sigma$ is known (we have more confidence)\n",
        "\n",
        "t-distribution - when population standard deviation is unknown (we have less confidence)\n",
        "\n",
        "![image](https://github.com/wcj365/python-stats-dataviz/blob/master/images/z-and-t-distribution.gif?raw=1)\n",
        "\n",
        "### Three Concepts of Statistical Inferece:\n",
        "#### 1. Point Estimate\n",
        "\n",
        "We use a sample statistics to estimate the population parameters:\n",
        "\n",
        "Sample Mean $\\bar{X}=\\dfrac{1}{n}\\sum\\limits_{i=1}^n X_i$\n",
        "\n",
        "Sample Variance $S^2=\\dfrac{1}{n-1}\\sum\\limits_{i=1}^n (X_i-\\bar{X})^2$\n",
        "\n",
        "Sample Standard Deviation $S=\\sqrt{\\dfrac{1}{n-1}\\sum\\limits_{i=1}^n (X_i-\\bar{X})^2}$\n",
        "\n",
        "#### 2.Interval Estimate/Confidence Interval\n",
        "\n",
        "How confident we are about our point estimate?\n",
        "\n",
        "Confidence Interval = sample statistics $\\pm$ margin of error\n",
        "\n",
        "Margin of Error = Some multiplier M * Standard Error \n",
        "\n",
        "Confidence Interval ($\\sigma$ known) = $\\bar{x}\\space\\pm\\space t_{\\alpha/2}\\left(\\dfrac{\\sigma}{\\sqrt{n}}\\right)$\n",
        "\n",
        "Confidence Interval ($\\sigma$ unknown) = $\\bar{x}\\space\\pm\\space t_{\\alpha/2}\\left(\\dfrac{S}{\\sqrt{n}}\\right)$\n",
        "\n",
        "Note:\n",
        "\n",
        "- How confidence are you about your confidence? No 100%.\n",
        "\n",
        "- if the population standard deviation is not known and we must use the smaple standard deviation to approximate the population standard deviation.\n"
      ]
    },
    {
      "cell_type": "code",
      "metadata": {
        "id": "0lkQaeLm_b2P"
      },
      "source": [
        "import math\n",
        "import scipy.stats as stats\n",
        "import numpy as np"
      ],
      "execution_count": 31,
      "outputs": []
    },
    {
      "cell_type": "markdown",
      "metadata": {
        "id": "EpR7wgta_b2T"
      },
      "source": [
        "### Point and interval estimate example\n",
        "\n",
        "A random sample of **16** Americans yielded the following data on the number of pounds of beef consumed per year:\n",
        "\n",
        "**118    115    125    110    112    130    117    112\n",
        "115    120    113    118    119    122    123    126**\n",
        "\n",
        "What is the average number of pounds of beef consumed each year per person in the United States?"
      ]
    },
    {
      "cell_type": "markdown",
      "metadata": {
        "id": "PkBVZq7s_b2U"
      },
      "source": [
        "### Step 1. Calculate Sample Size and Sample Mean"
      ]
    },
    {
      "cell_type": "code",
      "metadata": {
        "id": "kH44mBW8_b2V",
        "colab": {
          "base_uri": "https://localhost:8080/"
        },
        "outputId": "d106ec0b-e6cc-4aef-82e8-65afb15680e3"
      },
      "source": [
        "sample_data = [118, 115, 125, 110, 112, 130, 117, 112, 115, 120, 113, 118, 119, 122, 123, 126]\n",
        "sample_size = len(sample_data)\n",
        "print(\"Sample size =\", sample_size)"
      ],
      "execution_count": 32,
      "outputs": [
        {
          "output_type": "stream",
          "name": "stdout",
          "text": [
            "Sample size = 16\n"
          ]
        }
      ]
    },
    {
      "cell_type": "code",
      "metadata": {
        "id": "_yIK2C_A_b2b",
        "colab": {
          "base_uri": "https://localhost:8080/"
        },
        "outputId": "e9fc35b5-3033-4d47-fd5a-0171031a84b4"
      },
      "source": [
        "sample_mean = round(np.mean(sample_data),2)\n",
        "print(\"Sample mean =\", sample_mean)"
      ],
      "execution_count": 33,
      "outputs": [
        {
          "output_type": "stream",
          "name": "stdout",
          "text": [
            "Sample mean = 118.44\n"
          ]
        }
      ]
    },
    {
      "cell_type": "markdown",
      "metadata": {
        "id": "lPmyoZ8r_b2e"
      },
      "source": [
        "So, our point estimate for the annual beef consumption per capita in US is **118.44 pounds**. That is an easy part. \n",
        "\n",
        "However, we don't know how good our point estimate is and how confident we are about the point estimate.\n",
        "\n",
        "So, let's perform **interval estimate** so that we can provide a more \"statistically correct\" estimate."
      ]
    },
    {
      "cell_type": "markdown",
      "metadata": {
        "id": "oBHRQ08v_b2e"
      },
      "source": [
        "### Step 2 - Calculate the Sample Standard Deviation & Sample Error\n",
        "\n",
        "Sample Standard Deviation $S=\\sqrt{\\dfrac{1}{n-1}\\sum\\limits_{i=1}^n (X_i-\\bar{X})^2}$\n",
        "\n",
        "Sample Error = $\\dfrac{S}{\\sqrt{n}}$\n",
        "\n",
        "Note: \n",
        "\n",
        "Pay attention to the **\"n - 1\"** in the Sample Standard Deviation formula. For population, it would have been just\"n\".\n",
        "\n",
        "The default **Delta Degree of Freedom (DDOF)** is 0 which is applicable to populate data. \n",
        "\n",
        "For sample data, make sure to specify **ddof=1**.\n"
      ]
    },
    {
      "cell_type": "code",
      "metadata": {
        "id": "MrFVzRXe_b2f",
        "colab": {
          "base_uri": "https://localhost:8080/"
        },
        "outputId": "7b06fbcb-7211-4508-b1ab-baf6ea852482"
      },
      "source": [
        "sample_std = np.std(sample_data, ddof=1) \n",
        "sample_std = round(sample_std, 2)         \n",
        "print(\"Sample Standard Deviation =\", sample_std)"
      ],
      "execution_count": 34,
      "outputs": [
        {
          "output_type": "stream",
          "name": "stdout",
          "text": [
            "Sample Standard Deviation = 5.66\n"
          ]
        }
      ]
    },
    {
      "cell_type": "code",
      "metadata": {
        "id": "P_uQzlUE_b2i",
        "colab": {
          "base_uri": "https://localhost:8080/"
        },
        "outputId": "b080ae3a-2ca0-48e8-bb77-91804a0dc77f"
      },
      "source": [
        "# Calculate Sample Standard Error\n",
        "\n",
        "sample_std_err = sample_std / math.sqrt(sample_size)\n",
        "sample_std_err = round(sample_std_err,2)\n",
        "print(\"Sample Standard Error is\", sample_std_err)"
      ],
      "execution_count": 35,
      "outputs": [
        {
          "output_type": "stream",
          "name": "stdout",
          "text": [
            "Sample Standard Error is 1.42\n"
          ]
        }
      ]
    },
    {
      "cell_type": "markdown",
      "metadata": {
        "id": "M2jmwXFe_b2m"
      },
      "source": [
        "### Step 3 - Calculate t Critical Value using t-Distribution\n",
        "\n",
        "At 95% confidence level, the t value is 2.13 according to the  Student T Distribution Table:\n",
        "\n",
        "$\\alpha$ = 1 - Confidence Level = 1 - 95% = 0.05\n",
        "\n",
        "$\\dfrac{\\alpha}{2}$ = 0.025\n",
        "\n",
        "n (sample size) = 16\n",
        "\n",
        "df (degree of freedom) = n - 1 = 16 - 1 = 15\n",
        "\n",
        "$t_{0.025,15}=2.13$\n",
        "\n",
        "![Student T Table](https://github.com/wcj365/python-stats-dataviz/blob/master/images/StudentTTable.png?raw=1)\n",
        "\n"
      ]
    },
    {
      "cell_type": "code",
      "metadata": {
        "id": "tE7Qz6zn_b2m",
        "colab": {
          "base_uri": "https://localhost:8080/"
        },
        "outputId": "04312395-3a1a-4313-f883-c55000b7d98e"
      },
      "source": [
        "# Instead of looking it up in the t-table, \n",
        "# you use Python scipy.stats t-distribution.\n",
        "\n",
        "t_value = stats.t.ppf(0.975, 15)\n",
        "print(\"t critical value or t statistics = \", round(t_value,2))"
      ],
      "execution_count": 36,
      "outputs": [
        {
          "output_type": "stream",
          "name": "stdout",
          "text": [
            "t critical value or t statistics =  2.13\n"
          ]
        }
      ]
    },
    {
      "cell_type": "markdown",
      "metadata": {
        "id": "bOM5StXN_b2r"
      },
      "source": [
        "### Step 4 - Calculate Margin of Error\n",
        " Margin of Error = t-statistics * Sample Standard Error = $t_{\\alpha/2,n-1}\\left(\\dfrac{s}{\\sqrt{n}}\\right)$"
      ]
    },
    {
      "cell_type": "code",
      "metadata": {
        "id": "s0SGfqAG_b2r",
        "colab": {
          "base_uri": "https://localhost:8080/"
        },
        "outputId": "0286d312-14f6-4629-dadd-190813a853bb"
      },
      "source": [
        "margin_of_error = round(t_value * sample_std_err,2) \n",
        "print(\"Margin of Error =\", margin_of_error)"
      ],
      "execution_count": 37,
      "outputs": [
        {
          "output_type": "stream",
          "name": "stdout",
          "text": [
            "Margin of Error = 3.03\n"
          ]
        }
      ]
    },
    {
      "cell_type": "markdown",
      "metadata": {
        "id": "dDLjLxBM_b2u"
      },
      "source": [
        "### Step 5 - Calculate Lower and Upper Limit of the Confidence Interval\n",
        "- Lower Limit = Sample Mean - Margin of Error\n",
        "- Upper Limit = Sample Mean + Margin of Error"
      ]
    },
    {
      "cell_type": "code",
      "metadata": {
        "id": "w6WPXpKO_b2u",
        "colab": {
          "base_uri": "https://localhost:8080/"
        },
        "outputId": "b840b378-04cb-48f0-98d4-fb6884653a84"
      },
      "source": [
        "lower_limit = sample_mean - margin_of_error\n",
        "print (\"Lower Limit = \", lower_limit)"
      ],
      "execution_count": 38,
      "outputs": [
        {
          "output_type": "stream",
          "name": "stdout",
          "text": [
            "Lower Limit =  115.41\n"
          ]
        }
      ]
    },
    {
      "cell_type": "code",
      "metadata": {
        "id": "bBQRY3DO_b2x",
        "colab": {
          "base_uri": "https://localhost:8080/"
        },
        "outputId": "af5a57de-9b15-4906-db9e-2c8a698637f2"
      },
      "source": [
        "upper_limit = sample_mean + margin_of_error\n",
        "print (\"Upper Limit = \", upper_limit)"
      ],
      "execution_count": 39,
      "outputs": [
        {
          "output_type": "stream",
          "name": "stdout",
          "text": [
            "Upper Limit =  121.47\n"
          ]
        }
      ]
    },
    {
      "cell_type": "markdown",
      "metadata": {
        "id": "Yz8o502o_b22"
      },
      "source": [
        "### Step 6 - Now You have the Confidence Interval\n",
        "Confidence Interval ($\\sigma$ unknown) = $\\bar{x}\\space\\pm\\space t_{\\alpha/2}\\left(\\dfrac{S}{\\sqrt{n}}\\right)$"
      ]
    },
    {
      "cell_type": "code",
      "metadata": {
        "id": "Sp-0SXaU_b23",
        "colab": {
          "base_uri": "https://localhost:8080/"
        },
        "outputId": "2a17cbbb-55ab-4f78-a895-376488331a15"
      },
      "source": [
        "print(\"The 95% Confidence Interval Estimate of American Annual Beef Consumption = (\", lower_limit, \",\", upper_limit, \")\")"
      ],
      "execution_count": 40,
      "outputs": [
        {
          "output_type": "stream",
          "name": "stdout",
          "text": [
            "The 95% Confidence Interval Estimate of American Annual Beef Consumption = ( 115.41 , 121.47 )\n"
          ]
        }
      ]
    },
    {
      "cell_type": "markdown",
      "metadata": {
        "id": "p6NdwAqQ_b28"
      },
      "source": [
        "### The End"
      ]
    }
  ]
}