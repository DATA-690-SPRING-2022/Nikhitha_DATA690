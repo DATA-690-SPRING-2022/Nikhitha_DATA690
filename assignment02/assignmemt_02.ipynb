{
  "nbformat": 4,
  "nbformat_minor": 0,
  "metadata": {
    "colab": {
      "name": "assignmemt_02.ipynb",
      "provenance": [],
      "authorship_tag": "ABX9TyMivVI6GxyC5L+jQrdHYp73",
      "include_colab_link": true
    },
    "kernelspec": {
      "name": "python3",
      "display_name": "Python 3"
    },
    "language_info": {
      "name": "python"
    }
  },
  "cells": [
    {
      "cell_type": "markdown",
      "metadata": {
        "id": "view-in-github",
        "colab_type": "text"
      },
      "source": [
        "<a href=\"https://colab.research.google.com/github/NikhithaAlla/Nikhitha_Data690/blob/main/assignment02/assignmemt_02.ipynb\" target=\"_parent\"><img src=\"https://colab.research.google.com/assets/colab-badge.svg\" alt=\"Open In Colab\"/></a>"
      ]
    },
    {
      "cell_type": "markdown",
      "source": [
        "#Assignment 2\n",
        "* Class: DATA 690\n",
        "* Professor: Chaojie Wang"
      ],
      "metadata": {
        "id": "OWigqo07MErr"
      }
    },
    {
      "cell_type": "code",
      "source": [
        "## Prompts a user to enter 10 integers\n",
        "k=[]\n",
        "i=0\n",
        "while i<10:\n",
        "  try:\n",
        "    n=int(input(\"enter a number:\"))\n",
        "  except:\n",
        "    print(\"Only intergers are allowed, please retry\")\n",
        "    continue\n",
        "  k.append(n)\n",
        "  i=i+1\n",
        "#printing the list\n",
        "k\n"
      ],
      "metadata": {
        "colab": {
          "base_uri": "https://localhost:8080/"
        },
        "id": "ViC_IXuwMeAx",
        "outputId": "ff640a31-c004-4a73-c88b-305350accabb"
      },
      "execution_count": 16,
      "outputs": [
        {
          "name": "stdout",
          "output_type": "stream",
          "text": [
            "enter a number:1\n",
            "enter a number:2\n",
            "enter a number:3\n",
            "enter a number:4\n",
            "enter a number:5\n",
            "enter a number:;\n",
            "Only intergers are allowed, please retry\n",
            "enter a number:6\n",
            "enter a number:7\n",
            "enter a number:8\n",
            "enter a number:9\n",
            "enter a number:10\n"
          ]
        },
        {
          "output_type": "execute_result",
          "data": {
            "text/plain": [
              "[1, 2, 3, 4, 5, 6, 7, 8, 9, 10]"
            ]
          },
          "metadata": {},
          "execution_count": 16
        }
      ]
    },
    {
      "cell_type": "code",
      "source": [
        "def minimum(k):\n",
        "  minn = k[0]\n",
        "  for i in k[1:]:\n",
        "    if i < minn:\n",
        "      minn = i\n",
        "  return minn\n",
        "print(\"minimum number is \",minimum(k))"
      ],
      "metadata": {
        "colab": {
          "base_uri": "https://localhost:8080/"
        },
        "id": "BBSkYuMjRrJC",
        "outputId": "d875c6de-f97e-451f-c966-e21d4eb4872b"
      },
      "execution_count": 27,
      "outputs": [
        {
          "output_type": "stream",
          "name": "stdout",
          "text": [
            "minimum number is  1\n"
          ]
        }
      ]
    },
    {
      "cell_type": "code",
      "source": [
        "def maximum(k):\n",
        "    maxx = k[0]\n",
        "    for i in k[1:]:\n",
        "      if i > maxx:\n",
        "        maxx = i\n",
        "    return maxx \n",
        "print(\"maximum number is \",maximum(k))"
      ],
      "metadata": {
        "colab": {
          "base_uri": "https://localhost:8080/"
        },
        "id": "ay9C2sTxSQ6s",
        "outputId": "7aec6670-b720-42fb-8d9a-5fd47c751681"
      },
      "execution_count": 28,
      "outputs": [
        {
          "output_type": "stream",
          "name": "stdout",
          "text": [
            "maximum number is  10\n"
          ]
        }
      ]
    },
    {
      "cell_type": "code",
      "source": [
        "def Range1(k):\n",
        "  r=maximum(k)-minimum(k)\n",
        "  return r\n",
        "print(\"range:\",Range1(k))"
      ],
      "metadata": {
        "colab": {
          "base_uri": "https://localhost:8080/"
        },
        "id": "OdL_4yJJSwwE",
        "outputId": "50e9bb49-d127-4169-ea12-64e0c7225577"
      },
      "execution_count": 29,
      "outputs": [
        {
          "output_type": "stream",
          "name": "stdout",
          "text": [
            "range: 9\n"
          ]
        }
      ]
    },
    {
      "cell_type": "code",
      "source": [
        "def Mean(k):\n",
        "  sum=0\n",
        "  for i in k:\n",
        "   sum=sum+i\n",
        "  average=sum/len(k)\n",
        "  return average\n",
        "print(\"Mean:\",Mean(k))"
      ],
      "metadata": {
        "colab": {
          "base_uri": "https://localhost:8080/"
        },
        "id": "hzWfmzSvSxDK",
        "outputId": "bb265d99-86bb-4294-8e4a-d8819a75811b"
      },
      "execution_count": 32,
      "outputs": [
        {
          "output_type": "stream",
          "name": "stdout",
          "text": [
            "Mean: 5.5\n"
          ]
        }
      ]
    },
    {
      "cell_type": "code",
      "source": [
        "def variance(k):\n",
        "  dev = [(i-Mean(k)) ** 2 for i in k]\n",
        "  var=sum(dev)/len(k)\n",
        "  return var\n",
        "print(\"variance:\",variance(k))"
      ],
      "metadata": {
        "colab": {
          "base_uri": "https://localhost:8080/"
        },
        "id": "uo5LFCqnSxSA",
        "outputId": "0e5c044a-8c51-433b-9f92-849d9b226d01"
      },
      "execution_count": 36,
      "outputs": [
        {
          "output_type": "stream",
          "name": "stdout",
          "text": [
            "variance: 8.25\n"
          ]
        }
      ]
    },
    {
      "cell_type": "code",
      "source": [
        "def Standard_deviation(k):\n",
        "  sd=variance(k)** 0.5\n",
        "  return sd\n",
        "print(\"standard Deviation:\",Standard_deviation(k))"
      ],
      "metadata": {
        "colab": {
          "base_uri": "https://localhost:8080/"
        },
        "id": "iSdnsRrGSxgx",
        "outputId": "65fdcc45-847b-4c41-f2a7-223077e65cbe"
      },
      "execution_count": 37,
      "outputs": [
        {
          "output_type": "stream",
          "name": "stdout",
          "text": [
            "standard Deviation: 2.8722813232690143\n"
          ]
        }
      ]
    }
  ]
}