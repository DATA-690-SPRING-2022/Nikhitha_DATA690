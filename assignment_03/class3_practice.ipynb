{
  "nbformat": 4,
  "nbformat_minor": 0,
  "metadata": {
    "colab": {
      "name": "class3_practice.ipynb",
      "provenance": [],
      "authorship_tag": "ABX9TyNf9cOMjpiXweUuEvGz8wIz",
      "include_colab_link": true
    },
    "kernelspec": {
      "name": "python3",
      "display_name": "Python 3"
    },
    "language_info": {
      "name": "python"
    }
  },
  "cells": [
    {
      "cell_type": "markdown",
      "metadata": {
        "id": "view-in-github",
        "colab_type": "text"
      },
      "source": [
        "<a href=\"https://colab.research.google.com/github/NikhithaAlla/Nikhitha_Data690/blob/main/assignment_03/class3_practice.ipynb\" target=\"_parent\"><img src=\"https://colab.research.google.com/assets/colab-badge.svg\" alt=\"Open In Colab\"/></a>"
      ]
    },
    {
      "cell_type": "code",
      "execution_count": 1,
      "metadata": {
        "colab": {
          "base_uri": "https://localhost:8080/"
        },
        "id": "BuYTLyhQw7_y",
        "outputId": "a87dc3d7-cee4-4a39-c56f-ce9abe849cb4"
      },
      "outputs": [
        {
          "output_type": "stream",
          "name": "stdout",
          "text": [
            "[2, 4, 7, 'xyz', 'abc']\n"
          ]
        }
      ],
      "source": [
        "x=[2,4,7,\"xyz\",\"abc\"]\n",
        "\n",
        "print(x)"
      ]
    },
    {
      "cell_type": "code",
      "source": [
        "if 2 in x:\n",
        "  print(\"2 is a member of x\")\n",
        "else :\n",
        "  print(\"2 is not a member of x\")"
      ],
      "metadata": {
        "colab": {
          "base_uri": "https://localhost:8080/"
        },
        "id": "YVcKvWdCxNcw",
        "outputId": "f36a528d-ee09-4a68-8bbe-8acf19115589"
      },
      "execution_count": 4,
      "outputs": [
        {
          "output_type": "stream",
          "name": "stdout",
          "text": [
            "2 is a member of x\n"
          ]
        }
      ]
    },
    {
      "cell_type": "code",
      "source": [
        "for a in x:\n",
        "    print(a)"
      ],
      "metadata": {
        "colab": {
          "base_uri": "https://localhost:8080/"
        },
        "id": "TGV9Ky2JxNse",
        "outputId": "944581bc-2897-4ab9-decb-4c51e6a5d8d9"
      },
      "execution_count": 5,
      "outputs": [
        {
          "output_type": "stream",
          "name": "stdout",
          "text": [
            "2\n",
            "4\n",
            "7\n",
            "xyz\n",
            "abc\n"
          ]
        }
      ]
    },
    {
      "cell_type": "code",
      "source": [
        "y = [5,1,5,3,4,5,6,7,8,9]"
      ],
      "metadata": {
        "id": "i__Q6vQlxN6y"
      },
      "execution_count": 6,
      "outputs": []
    },
    {
      "cell_type": "code",
      "source": [
        "for b in y :\n",
        "    print(b)"
      ],
      "metadata": {
        "colab": {
          "base_uri": "https://localhost:8080/"
        },
        "id": "JkODh8x8xOIq",
        "outputId": "bc6765fa-d56b-4d62-c6f0-1b114527dc9f"
      },
      "execution_count": 7,
      "outputs": [
        {
          "output_type": "stream",
          "name": "stdout",
          "text": [
            "5\n",
            "1\n",
            "5\n",
            "3\n",
            "4\n",
            "5\n",
            "6\n",
            "7\n",
            "8\n",
            "9\n"
          ]
        }
      ]
    },
    {
      "cell_type": "code",
      "source": [
        "for b in y:\n",
        "    print(b, end = \" \")"
      ],
      "metadata": {
        "colab": {
          "base_uri": "https://localhost:8080/"
        },
        "id": "rBy8joMgzRSQ",
        "outputId": "0de8c7ef-8339-4a51-da16-9be2ed155c9a"
      },
      "execution_count": 8,
      "outputs": [
        {
          "output_type": "stream",
          "name": "stdout",
          "text": [
            "5 1 5 3 4 5 6 7 8 9 "
          ]
        }
      ]
    },
    {
      "cell_type": "code",
      "source": [
        "import random"
      ],
      "metadata": {
        "id": "4quHjUGLzRjN"
      },
      "execution_count": 9,
      "outputs": []
    },
    {
      "cell_type": "code",
      "source": [
        "random.randint(1,7)"
      ],
      "metadata": {
        "colab": {
          "base_uri": "https://localhost:8080/"
        },
        "id": "dCXy4uBhzRxV",
        "outputId": "73589407-1ebd-4f47-8e83-0fddc2afe1fc"
      },
      "execution_count": 14,
      "outputs": [
        {
          "output_type": "execute_result",
          "data": {
            "text/plain": [
              "2"
            ]
          },
          "metadata": {},
          "execution_count": 14
        }
      ]
    },
    {
      "cell_type": "code",
      "source": [
        "for i in range(10) :\n",
        "    k = random.randint(0,9) \n",
        "    print(k, end=\" \")"
      ],
      "metadata": {
        "colab": {
          "base_uri": "https://localhost:8080/"
        },
        "id": "1hlsbqYRzR1E",
        "outputId": "94eb144c-8b2c-43ba-9c6b-402a06b9cd4c"
      },
      "execution_count": 17,
      "outputs": [
        {
          "output_type": "stream",
          "name": "stdout",
          "text": [
            "1 2 7 9 6 1 2 0 4 8 "
          ]
        }
      ]
    },
    {
      "cell_type": "code",
      "source": [
        "for i in range(10) :\n",
        "    for j in range(10) :\n",
        "        print(random.randint(0,9), end=\" \")\n",
        "    print()"
      ],
      "metadata": {
        "colab": {
          "base_uri": "https://localhost:8080/"
        },
        "id": "39vN42nP03xp",
        "outputId": "3b441a5c-28a6-4204-caf6-8959411c451c"
      },
      "execution_count": 19,
      "outputs": [
        {
          "output_type": "stream",
          "name": "stdout",
          "text": [
            "9 2 6 7 8 0 0 9 6 9 \n",
            "4 4 4 3 4 9 5 9 6 9 \n",
            "7 0 5 5 4 3 9 4 3 2 \n",
            "8 3 1 9 9 0 0 7 0 0 \n",
            "9 9 3 6 1 3 1 6 3 2 \n",
            "2 0 5 1 9 5 3 6 9 2 \n",
            "9 5 8 2 6 1 8 8 0 1 \n",
            "6 5 7 4 9 5 3 6 6 6 \n",
            "7 7 8 0 1 4 4 4 4 7 \n",
            "5 9 1 4 7 0 9 3 1 7 \n"
          ]
        }
      ]
    },
    {
      "cell_type": "code",
      "source": [
        ""
      ],
      "metadata": {
        "id": "5_PbmmR7032t"
      },
      "execution_count": null,
      "outputs": []
    },
    {
      "cell_type": "code",
      "source": [
        ""
      ],
      "metadata": {
        "id": "pd3m5zVl0360"
      },
      "execution_count": null,
      "outputs": []
    },
    {
      "cell_type": "code",
      "source": [
        ""
      ],
      "metadata": {
        "id": "gvTv7bZh03-g"
      },
      "execution_count": null,
      "outputs": []
    },
    {
      "cell_type": "code",
      "source": [
        ""
      ],
      "metadata": {
        "id": "iV5ybKxJ04Da"
      },
      "execution_count": null,
      "outputs": []
    },
    {
      "cell_type": "code",
      "source": [
        ""
      ],
      "metadata": {
        "id": "9dwory7S04IF"
      },
      "execution_count": null,
      "outputs": []
    }
  ]
}