{
  "nbformat": 4,
  "nbformat_minor": 0,
  "metadata": {
    "colab": {
      "name": "Assignment_03.ipynb",
      "provenance": [],
      "authorship_tag": "ABX9TyMX1NFsEYnXUUXmQV6Tul5z",
      "include_colab_link": true
    },
    "kernelspec": {
      "name": "python3",
      "display_name": "Python 3"
    },
    "language_info": {
      "name": "python"
    }
  },
  "cells": [
    {
      "cell_type": "markdown",
      "metadata": {
        "id": "view-in-github",
        "colab_type": "text"
      },
      "source": [
        "<a href=\"https://colab.research.google.com/github/NikhithaAlla/Nikhitha_Data690/blob/main/assignment_03/Assignment_03.ipynb\" target=\"_parent\"><img src=\"https://colab.research.google.com/assets/colab-badge.svg\" alt=\"Open In Colab\"/></a>"
      ]
    },
    {
      "cell_type": "markdown",
      "source": [
        "# 1.Print them in a 10 by 10 matrix neatly arranged like the following (one space between each number):\n"
      ],
      "metadata": {
        "id": "nxmN71tfqair"
      }
    },
    {
      "cell_type": "code",
      "execution_count": 1,
      "metadata": {
        "colab": {
          "base_uri": "https://localhost:8080/"
        },
        "id": "yC7ZCnEWq4HH",
        "outputId": "f95101b6-3f87-400f-f6b6-b5e38395347a"
      },
      "outputs": [
        {
          "output_type": "stream",
          "name": "stdout",
          "text": [
            "8 8 4 5 4 4 4 7 9 5 \n",
            "1 3 1 0 9 7 2 7 1 6 \n",
            "1 5 7 2 2 7 8 3 4 8 \n",
            "6 2 2 1 0 4 3 8 3 8 \n",
            "3 9 9 1 8 0 1 6 8 8 \n",
            "0 2 1 4 4 4 8 8 4 9 \n",
            "0 8 1 7 6 7 8 3 9 2 \n",
            "2 8 3 8 0 9 4 7 7 7 \n",
            "0 9 7 9 1 1 2 2 0 9 \n",
            "0 3 7 4 7 9 1 1 7 5 \n"
          ]
        }
      ],
      "source": [
        "import random\n",
        "for i in range(10) :\n",
        "    for j in range(10) :\n",
        "        print(random.randint(0,9), end=\" \")\n",
        "    print()"
      ]
    },
    {
      "cell_type": "markdown",
      "source": [
        "# **2**. If the random number is an odd number, print \"@\" instead. like the following:\n"
      ],
      "metadata": {
        "id": "QErQELj9eVaR"
      }
    },
    {
      "cell_type": "code",
      "source": [
        "import random\n",
        "for i in range(10) :\n",
        "    for j in range(10) :\n",
        "        k=random.randint(0,9)\n",
        "        if k%2 ==0:\n",
        "          print(k, end=\" \")\n",
        "        else:\n",
        "          print('@', end=' ')\n",
        "    print()"
      ],
      "metadata": {
        "colab": {
          "base_uri": "https://localhost:8080/"
        },
        "id": "_s9pfCsmfEB8",
        "outputId": "1960d0e6-57e0-4596-e1f8-a8fc9c7d3461"
      },
      "execution_count": 4,
      "outputs": [
        {
          "output_type": "stream",
          "name": "stdout",
          "text": [
            "@ @ 0 @ 2 @ @ 8 @ 2 \n",
            "@ @ @ 8 @ @ 0 @ 4 4 \n",
            "@ @ 0 6 0 0 2 @ @ 4 \n",
            "@ @ @ @ 6 2 @ 0 6 0 \n",
            "4 4 4 2 @ 2 @ 6 2 4 \n",
            "4 0 6 @ @ 4 6 @ @ @ \n",
            "6 @ 6 4 4 4 @ 4 @ @ \n",
            "8 @ @ 4 @ 8 6 2 @ 2 \n",
            "@ 0 @ 2 8 0 @ @ @ @ \n",
            "@ 2 2 @ 6 @ @ 0 @ 6 \n"
          ]
        }
      ]
    },
    {
      "cell_type": "markdown",
      "source": [
        "## 3. Calculate and Print the total of each row like the following (use \"*\" to separate the total from the numbers):\n"
      ],
      "metadata": {
        "id": "43HI64Sce-AY"
      }
    },
    {
      "cell_type": "code",
      "source": [
        "import random\n",
        "for i in range(10) :\n",
        "    sum = 0\n",
        "    for j in range(10) :\n",
        "        k=random.randint(0,9)\n",
        "        sum = sum + k\n",
        "        print(k, end=\" \")\n",
        "    print(\"*\",sum)"
      ],
      "metadata": {
        "colab": {
          "base_uri": "https://localhost:8080/"
        },
        "id": "TKbsbDeCfEzk",
        "outputId": "be80c3cb-df5e-404f-857a-4a095e93f04c"
      },
      "execution_count": 8,
      "outputs": [
        {
          "output_type": "stream",
          "name": "stdout",
          "text": [
            "1 0 2 5 5 2 6 8 0 1 * 30\n",
            "7 3 2 8 0 6 8 4 2 3 * 43\n",
            "3 2 9 2 5 4 4 1 6 3 * 39\n",
            "0 5 1 5 7 7 9 3 7 9 * 53\n",
            "5 6 1 3 9 0 7 6 1 5 * 43\n",
            "5 6 3 5 3 4 6 6 4 0 * 42\n",
            "1 3 3 1 2 3 9 6 6 8 * 42\n",
            "6 4 8 4 6 7 7 2 1 8 * 53\n",
            "6 6 8 5 8 1 7 9 8 9 * 67\n",
            "6 3 8 6 5 7 8 1 2 6 * 52\n"
          ]
        }
      ]
    },
    {
      "cell_type": "markdown",
      "source": [
        "#4.Surround the matrix with asterisks (*) like the following:\n"
      ],
      "metadata": {
        "id": "fXmeaFR7eeIt"
      }
    },
    {
      "cell_type": "code",
      "source": [
        "import random\n",
        "print(\"***********************\")\n",
        "for i in range(10) :\n",
        "    print('*', end = \" \")\n",
        "    for j in range(10) :\n",
        "        k=random.randint(0,9)\n",
        "        print(k, end=\" \")\n",
        "    print(\"*\")\n",
        "print(\"***********************\")"
      ],
      "metadata": {
        "colab": {
          "base_uri": "https://localhost:8080/"
        },
        "id": "JJZBnFimfG8n",
        "outputId": "0ed2f506-016f-4a6a-b2fa-379804db4017"
      },
      "execution_count": 23,
      "outputs": [
        {
          "output_type": "stream",
          "name": "stdout",
          "text": [
            "***********************\n",
            "* 9 8 1 2 4 9 4 7 7 3 *\n",
            "* 2 6 3 2 5 4 6 2 0 2 *\n",
            "* 9 3 7 5 8 7 2 6 2 5 *\n",
            "* 8 6 0 1 2 3 5 1 8 4 *\n",
            "* 0 4 9 7 7 6 5 4 0 2 *\n",
            "* 2 2 6 4 8 4 9 7 7 2 *\n",
            "* 4 0 3 8 0 4 7 0 6 6 *\n",
            "* 6 9 0 2 6 2 1 5 7 1 *\n",
            "* 2 3 6 2 5 3 7 8 4 9 *\n",
            "* 8 6 3 1 7 3 3 0 3 0 *\n",
            "***********************\n"
          ]
        }
      ]
    },
    {
      "cell_type": "markdown",
      "source": [
        "#5. Calculate and Print the total of each row and column like the following:\n"
      ],
      "metadata": {
        "id": "ESTgoAteh4hJ"
      }
    },
    {
      "cell_type": "code",
      "source": [
        "import random  \n",
        "col = [0]*10  \n",
        "for i in range(0,10): \n",
        "    a= 0 \n",
        "    for j in range(0,10):  \n",
        "        val=(random.randint(0,9))\n",
        "        a= a+(val)  \n",
        "        col[j] = col[j] + val \n",
        "        print(val, end=\"  \") \n",
        "    print(\"*\", a)  \n",
        "for i in range(0,10):\n",
        "    print(\"*\", end=\"  \")  \n",
        "print(\"\\n\", end=\"\")  \n",
        "for j in range(0,10):\n",
        "    print(col[j], end=\" \")"
      ],
      "metadata": {
        "colab": {
          "base_uri": "https://localhost:8080/"
        },
        "id": "d1iXiDjjh8Ka",
        "outputId": "dd17eeb8-17ae-4986-b09d-d7a917606577"
      },
      "execution_count": 27,
      "outputs": [
        {
          "output_type": "stream",
          "name": "stdout",
          "text": [
            "0  9  2  6  8  2  0  9  2  1  * 39\n",
            "5  2  8  7  4  1  8  9  5  6  * 55\n",
            "7  7  8  3  1  3  5  5  6  3  * 48\n",
            "1  0  2  6  3  2  9  0  6  1  * 30\n",
            "7  9  6  9  5  8  9  3  6  8  * 70\n",
            "8  0  6  7  5  6  3  0  1  7  * 43\n",
            "0  1  7  4  5  0  0  7  3  3  * 30\n",
            "7  4  4  6  3  5  0  2  2  2  * 35\n",
            "9  1  4  8  4  1  2  9  8  5  * 51\n",
            "4  2  4  3  5  4  4  9  9  7  * 51\n",
            "*  *  *  *  *  *  *  *  *  *  \n",
            "48 35 51 59 43 32 40 53 48 43 "
          ]
        }
      ]
    }
  ]
}