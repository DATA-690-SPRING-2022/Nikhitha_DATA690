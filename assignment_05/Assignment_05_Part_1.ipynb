{
  "nbformat": 4,
  "nbformat_minor": 0,
  "metadata": {
    "colab": {
      "name": "Assignment_05_Part_1.ipynb",
      "provenance": [],
      "collapsed_sections": [],
      "include_colab_link": true
    },
    "kernelspec": {
      "name": "python3",
      "display_name": "Python 3"
    },
    "language_info": {
      "name": "python"
    }
  },
  "cells": [
    {
      "cell_type": "markdown",
      "metadata": {
        "id": "view-in-github",
        "colab_type": "text"
      },
      "source": [
        "<a href=\"https://colab.research.google.com/github/NikhithaAlla/Nikhitha_Data690/blob/main/assignment_05/Assignment_05_Part_1.ipynb\" target=\"_parent\"><img src=\"https://colab.research.google.com/assets/colab-badge.svg\" alt=\"Open In Colab\"/></a>"
      ]
    },
    {
      "cell_type": "markdown",
      "source": [
        "#Assignment 05\n",
        "\n",
        "- Name- Nikhitha Alla\n",
        "- Date- 03/05/22"
      ],
      "metadata": {
        "id": "9v03SE9U-rPK"
      }
    },
    {
      "cell_type": "markdown",
      "source": [
        "## Data analysis\n",
        "- A process of inspecting, cleansing, transforming and modeling data with the goal of discovering useful information, informing conclusion and supporting decision-making.\n"
      ],
      "metadata": {
        "id": "pbVQZECf9eOE"
      }
    },
    {
      "cell_type": "markdown",
      "source": [
        "Why would we choose Python over R or Julia?\n",
        "\n",
        "- 👍 very simple and intuitive to learn\n",
        "- 👍 “correct” language\n",
        "- 👍 powerful libraries (not just for Data Analysis)\n",
        "- 👍 free and open source\n",
        "- 👍 amazing community, docs and conferences\n"
      ],
      "metadata": {
        "id": "Fb22HEYM9eQF"
      }
    },
    {
      "cell_type": "markdown",
      "source": [
        "# IMP Libraries"
      ],
      "metadata": {
        "id": "30YuVeaa9eSJ"
      }
    },
    {
      "cell_type": "markdown",
      "source": [
        "- pandas: The cornerstone of our Data Analysis job with Python\n",
        "- matplotlib: The foundational library for visualizations. Other libraries we’ll use will be built on top of matplotlib.\n",
        "- numpy: The numeric library that serves as the foundation of all calculations in Python.\n",
        "- seaborn: A statistical visualization tool built on top of matplotlib.\n",
        "- statsmodels: A library with many advanced statistical functions.\n",
        "- scipy: Advanced scientific computing, including functions for optimization, linear algebra, image processing and much more.\n",
        "- scikit-learn: The most popular machine learning library for Python (not deep learning)"
      ],
      "metadata": {
        "id": "0trwtmpj9eUg"
      }
    },
    {
      "cell_type": "markdown",
      "source": [
        ""
      ],
      "metadata": {
        "id": "KQlrMQMU9eXI"
      }
    }
  ]
}