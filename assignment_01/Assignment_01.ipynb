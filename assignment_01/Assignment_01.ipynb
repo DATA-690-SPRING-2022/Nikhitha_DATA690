{
  "nbformat": 4,
  "nbformat_minor": 0,
  "metadata": {
    "colab": {
      "name": "Assignment_01.ipynb",
      "provenance": [],
      "collapsed_sections": [],
      "authorship_tag": "ABX9TyNhJ/de+bgwKoDeyQYe0cBy",
      "include_colab_link": true
    },
    "kernelspec": {
      "name": "python3",
      "display_name": "Python 3"
    },
    "language_info": {
      "name": "python"
    }
  },
  "cells": [
    {
      "cell_type": "markdown",
      "metadata": {
        "id": "view-in-github",
        "colab_type": "text"
      },
      "source": [
        "<a href=\"https://colab.research.google.com/github/NikhithaAlla/Nikhitha_Data690/blob/main/assignment_01/Assignment_01.ipynb\" target=\"_parent\"><img src=\"https://colab.research.google.com/assets/colab-badge.svg\" alt=\"Open In Colab\"/></a>"
      ]
    },
    {
      "cell_type": "markdown",
      "source": [
        "# Assignment 1 for DATA 690 FALL 2021\n",
        "\n",
        "- Instructor: Dr Jay Wang\n",
        "- Studdent: Jay Wang\n",
        "- Date:09/02/2021\n",
        "\n",
        "This is for demonstrating the use of Jupyter Notebook.\n",
        "\n"
      ],
      "metadata": {
        "id": "7Wf_R1B0Gi7A"
      }
    },
    {
      "cell_type": "markdown",
      "source": [
        "## 1. Simplest Python Code\n",
        "\n",
        "*   List item\n",
        "*   List item"
      ],
      "metadata": {
        "id": "TL4DjBYyGomE"
      }
    },
    {
      "cell_type": "code",
      "source": [
        "print(\"Hello World!\")"
      ],
      "metadata": {
        "colab": {
          "base_uri": "https://localhost:8080/"
        },
        "id": "r0lOE25TGkQb",
        "outputId": "be20bab1-f5df-4652-9a26-5f336eece0b6"
      },
      "execution_count": 1,
      "outputs": [
        {
          "output_type": "stream",
          "name": "stdout",
          "text": [
            "Hello World!\n"
          ]
        }
      ]
    },
    {
      "cell_type": "markdown",
      "source": [
        "\n",
        "1.   List item\n",
        "2.   List item\n",
        "\n",
        "\n",
        "## 2. Perform multiplication"
      ],
      "metadata": {
        "id": "oeADJXtpG-QD"
      }
    },
    {
      "cell_type": "code",
      "source": [
        "x = 10 * 2\n",
        "print(x)"
      ],
      "metadata": {
        "colab": {
          "base_uri": "https://localhost:8080/"
        },
        "id": "NRVPG804HD5W",
        "outputId": "8336ce9c-72fa-42f7-b9ea-d621e6231120"
      },
      "execution_count": 2,
      "outputs": [
        {
          "output_type": "stream",
          "name": "stdout",
          "text": [
            "20\n"
          ]
        }
      ]
    },
    {
      "cell_type": "markdown",
      "source": [
        "## 3. Perform Division\n",
        "\n",
        "> Indented block\n"
      ],
      "metadata": {
        "id": "dGx6U67OHIjx"
      }
    },
    {
      "cell_type": "code",
      "source": [
        "y = 100\n",
        "z = y / x\n",
        "print(z)"
      ],
      "metadata": {
        "colab": {
          "base_uri": "https://localhost:8080/"
        },
        "id": "ee_qSo_qHPFN",
        "outputId": "3f3607d3-41a3-4437-f783-382c873daf91"
      },
      "execution_count": 3,
      "outputs": [
        {
          "output_type": "stream",
          "name": "stdout",
          "text": [
            "5.0\n"
          ]
        }
      ]
    },
    {
      "cell_type": "markdown",
      "source": [
        "*italicized text*## 4. Addition"
      ],
      "metadata": {
        "id": "3lVWSKbyHSw-"
      }
    },
    {
      "cell_type": "code",
      "source": [
        "print(100 + 200)"
      ],
      "metadata": {
        "colab": {
          "base_uri": "https://localhost:8080/"
        },
        "id": "FVX8q4LiHT8l",
        "outputId": "457fb671-977d-4512-f63e-4492eb7774e3"
      },
      "execution_count": 4,
      "outputs": [
        {
          "output_type": "stream",
          "name": "stdout",
          "text": [
            "300\n"
          ]
        }
      ]
    }
  ]
}