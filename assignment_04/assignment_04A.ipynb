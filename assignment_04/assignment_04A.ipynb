{
  "nbformat": 4,
  "nbformat_minor": 0,
  "metadata": {
    "colab": {
      "name": "assignment_04A.ipynb",
      "provenance": [],
      "authorship_tag": "ABX9TyPQYdtRKwV3qMnPUkZuEg/s",
      "include_colab_link": true
    },
    "kernelspec": {
      "name": "python3",
      "display_name": "Python 3"
    },
    "language_info": {
      "name": "python"
    }
  },
  "cells": [
    {
      "cell_type": "markdown",
      "metadata": {
        "id": "view-in-github",
        "colab_type": "text"
      },
      "source": [
        "<a href=\"https://colab.research.google.com/github/NikhithaAlla/Nikhitha_Data690/blob/main/assignment_04/assignment_04A.ipynb\" target=\"_parent\"><img src=\"https://colab.research.google.com/assets/colab-badge.svg\" alt=\"Open In Colab\"/></a>"
      ]
    },
    {
      "cell_type": "markdown",
      "source": [
        "#Assignment 04\n",
        "Name: Nikhitha Alla\n",
        "\n",
        "Date: 02/25/2022"
      ],
      "metadata": {
        "id": "5z8BEyVR7sUs"
      }
    },
    {
      "cell_type": "markdown",
      "source": [
        "# Write code to open the text file census_costs.txt and read all lines into a list named \"line_list\". Print line_list."
      ],
      "metadata": {
        "id": "SHLGTwQr8BDI"
      }
    },
    {
      "cell_type": "code",
      "execution_count": 8,
      "metadata": {
        "colab": {
          "base_uri": "https://localhost:8080/"
        },
        "id": "gOJC_2_X7k-h",
        "outputId": "b08ee350-7221-4e60-cb97-583b38a6aa1a"
      },
      "outputs": [
        {
          "output_type": "execute_result",
          "data": {
            "text/plain": [
              "['Census Year\\tTotal Population\\tCensus Cost\\tAverage Cost Per Person\\n',\n",
              " '1790\\t3,929,214\\t$44,377\\t1.13 cents\\n',\n",
              " '1800\\t5,308,483\\t$66,109\\t1.24 cents\\n',\n",
              " '1810\\t7,239,881\\t$178,445\\t2.46 cents\\n',\n",
              " '1820\\t9,633,822\\t$208,526\\t2.16 cents\\n',\n",
              " '1830\\t12,866,020\\t$378,545\\t2.94 cents\\n',\n",
              " '1840\\t17,069,458\\t$833,371\\t4.88 cents\\n',\n",
              " '1850\\t23,191,876\\t$1,423,351\\t6.14 cents\\n',\n",
              " '1860\\t31,443,321\\t$1,969,377\\t6.26 cents\\n',\n",
              " '1870\\t38,558,371\\t$3,421,198\\t8.87 cents\\n',\n",
              " '1880\\t50,155,783\\t$5,790,678\\t11.54 cents\\n',\n",
              " '1890\\t62,979,766\\t$11,547,127\\t18.33 cents\\n',\n",
              " '1900\\t76,303,387\\t$11,854,000\\t15.54 cents\\n',\n",
              " '1910\\t91,972,266\\t$15,968,000\\t17.07 cents\\n',\n",
              " '1920\\t105,710,620\\t$25,117,000\\t23.76 cents\\n',\n",
              " '1930\\t122,775,046\\t$40,156,000\\t32.71 cents\\n',\n",
              " '1940\\t131,669,275\\t$67,527,000\\t51.29 cents\\n',\n",
              " '1950\\t151,325,798\\t$91,462,000\\t60.44 cents\\n',\n",
              " '1960\\t179,323,175\\t$127,934,000\\t71.34 cents\\n',\n",
              " '1970\\t203,302,031\\t$247,653,000\\t$1.22\\n',\n",
              " '1980\\t226,542,199\\t$1,078,488,000\\t$4.76\\n',\n",
              " '1990\\t248,718,301\\t$2,492,830,000\\t$10.02\\n',\n",
              " '2000\\t281,421,906\\t$4.5 Billion\\t$15.99\\n',\n",
              " '2010*\\t308,745,538\\t$13 Billion\\t$42.11\\n',\n",
              " '2020**\\t331,449,281\\t$14.2 Billion\\t$42.84']"
            ]
          },
          "metadata": {},
          "execution_count": 8
        }
      ],
      "source": [
        "with open(\"/content/censuscost.txt\", \"r\") as file:\n",
        "    line_list = file.readlines()\n",
        "\n",
        "line_list"
      ]
    },
    {
      "cell_type": "markdown",
      "source": [
        "# Extract the first two lines and put them in a different list named \"top2_list\". You will need to use them later. Print the top2_list."
      ],
      "metadata": {
        "id": "5S5I7SRuE10a"
      }
    },
    {
      "cell_type": "code",
      "source": [
        "top2_list = line_list[:2]\n",
        "top2_list"
      ],
      "metadata": {
        "colab": {
          "base_uri": "https://localhost:8080/"
        },
        "id": "QgUpHUNPD4e1",
        "outputId": "8c751985-9c12-49e7-cc34-d9f8d373174b"
      },
      "execution_count": 9,
      "outputs": [
        {
          "output_type": "execute_result",
          "data": {
            "text/plain": [
              "['Census Year\\tTotal Population\\tCensus Cost\\tAverage Cost Per Person\\n',\n",
              " '1790\\t3,929,214\\t$44,377\\t1.13 cents\\n']"
            ]
          },
          "metadata": {},
          "execution_count": 9
        }
      ]
    },
    {
      "cell_type": "markdown",
      "source": [
        "# Put the rest of the lines (containing useful data elements) in a new list named \"data_list\". Print data_list."
      ],
      "metadata": {
        "id": "qkQX5xKUE3WC"
      }
    },
    {
      "cell_type": "code",
      "source": [
        "data_list = line_list[2:]\n",
        "data_list"
      ],
      "metadata": {
        "colab": {
          "base_uri": "https://localhost:8080/"
        },
        "id": "1gJMf0ULD5yb",
        "outputId": "9f3eeb22-043a-4e1d-af78-9599fef62e2d"
      },
      "execution_count": 10,
      "outputs": [
        {
          "output_type": "execute_result",
          "data": {
            "text/plain": [
              "['1800\\t5,308,483\\t$66,109\\t1.24 cents\\n',\n",
              " '1810\\t7,239,881\\t$178,445\\t2.46 cents\\n',\n",
              " '1820\\t9,633,822\\t$208,526\\t2.16 cents\\n',\n",
              " '1830\\t12,866,020\\t$378,545\\t2.94 cents\\n',\n",
              " '1840\\t17,069,458\\t$833,371\\t4.88 cents\\n',\n",
              " '1850\\t23,191,876\\t$1,423,351\\t6.14 cents\\n',\n",
              " '1860\\t31,443,321\\t$1,969,377\\t6.26 cents\\n',\n",
              " '1870\\t38,558,371\\t$3,421,198\\t8.87 cents\\n',\n",
              " '1880\\t50,155,783\\t$5,790,678\\t11.54 cents\\n',\n",
              " '1890\\t62,979,766\\t$11,547,127\\t18.33 cents\\n',\n",
              " '1900\\t76,303,387\\t$11,854,000\\t15.54 cents\\n',\n",
              " '1910\\t91,972,266\\t$15,968,000\\t17.07 cents\\n',\n",
              " '1920\\t105,710,620\\t$25,117,000\\t23.76 cents\\n',\n",
              " '1930\\t122,775,046\\t$40,156,000\\t32.71 cents\\n',\n",
              " '1940\\t131,669,275\\t$67,527,000\\t51.29 cents\\n',\n",
              " '1950\\t151,325,798\\t$91,462,000\\t60.44 cents\\n',\n",
              " '1960\\t179,323,175\\t$127,934,000\\t71.34 cents\\n',\n",
              " '1970\\t203,302,031\\t$247,653,000\\t$1.22\\n',\n",
              " '1980\\t226,542,199\\t$1,078,488,000\\t$4.76\\n',\n",
              " '1990\\t248,718,301\\t$2,492,830,000\\t$10.02\\n',\n",
              " '2000\\t281,421,906\\t$4.5 Billion\\t$15.99\\n',\n",
              " '2010*\\t308,745,538\\t$13 Billion\\t$42.11\\n',\n",
              " '2020**\\t331,449,281\\t$14.2 Billion\\t$42.84']"
            ]
          },
          "metadata": {},
          "execution_count": 10
        }
      ]
    },
    {
      "cell_type": "markdown",
      "source": [
        "# Extract the column \"Census Year\" from data_list and assign them to a list named year_list. Remove the \"*\" from the last element \"2010*\". Print the cleansed year_list."
      ],
      "metadata": {
        "id": "GKgbaii_E4uB"
      }
    },
    {
      "cell_type": "code",
      "source": [
        "year_list = [line.split(\"\\t\")[0] for line in data_list]\n",
        "cleansed_year_list = [Census_Year.replace(\"*\",\"\") for Census_Year in year_list]\n",
        "cleansed_year_list"
      ],
      "metadata": {
        "colab": {
          "base_uri": "https://localhost:8080/"
        },
        "id": "u2rRB_eHD-Fr",
        "outputId": "5b30c607-7aa7-44d7-9245-f5065d67f9b7"
      },
      "execution_count": 11,
      "outputs": [
        {
          "output_type": "execute_result",
          "data": {
            "text/plain": [
              "['1800',\n",
              " '1810',\n",
              " '1820',\n",
              " '1830',\n",
              " '1840',\n",
              " '1850',\n",
              " '1860',\n",
              " '1870',\n",
              " '1880',\n",
              " '1890',\n",
              " '1900',\n",
              " '1910',\n",
              " '1920',\n",
              " '1930',\n",
              " '1940',\n",
              " '1950',\n",
              " '1960',\n",
              " '1970',\n",
              " '1980',\n",
              " '1990',\n",
              " '2000',\n",
              " '2010',\n",
              " '2020']"
            ]
          },
          "metadata": {},
          "execution_count": 11
        }
      ]
    },
    {
      "cell_type": "markdown",
      "source": [
        "# Extract the \"Total Population\" column from the data_list and assign them to a list named \"pop_list\". Remove the \",\" from the numbers since Python doesn't recognize them. Print the cleansed \"pop_list\"."
      ],
      "metadata": {
        "id": "VuPFlRfxE6B4"
      }
    },
    {
      "cell_type": "code",
      "source": [
        "pop_list = [line.split(\"\\t\")[1] for line in data_list]\n",
        "cleansed_pop_list = [total_population.replace(\",\",\"\") for total_population in pop_list] \n",
        "cleansed_pop_list"
      ],
      "metadata": {
        "colab": {
          "base_uri": "https://localhost:8080/"
        },
        "id": "Ir2_A1UCECZm",
        "outputId": "54a1c3b3-d936-4acc-d43a-2b97ac4b6267"
      },
      "execution_count": 12,
      "outputs": [
        {
          "output_type": "execute_result",
          "data": {
            "text/plain": [
              "['5308483',\n",
              " '7239881',\n",
              " '9633822',\n",
              " '12866020',\n",
              " '17069458',\n",
              " '23191876',\n",
              " '31443321',\n",
              " '38558371',\n",
              " '50155783',\n",
              " '62979766',\n",
              " '76303387',\n",
              " '91972266',\n",
              " '105710620',\n",
              " '122775046',\n",
              " '131669275',\n",
              " '151325798',\n",
              " '179323175',\n",
              " '203302031',\n",
              " '226542199',\n",
              " '248718301',\n",
              " '281421906',\n",
              " '308745538',\n",
              " '331449281']"
            ]
          },
          "metadata": {},
          "execution_count": 12
        }
      ]
    },
    {
      "cell_type": "markdown",
      "source": [
        "# Extract the \"Census Cost\" column from the data_list and assign them to a list named \"cost_list\". Remove the \",\", and \"$\", and \"Billion\". Make sure to add the \"0\"s to the numbers from which you removed \"Billion\". Print the cleansed cost_list."
      ],
      "metadata": {
        "id": "O6k-Wkc0E8Wl"
      }
    },
    {
      "cell_type": "code",
      "source": [
        "cost_list = [line.split(\"\\t\")[2] for line in data_list]\n",
        "cleansed_cost_list = [Census_Cost.replace(\",\",\"\") for Census_Cost in cost_list] \n",
        "cleansed_cost_list = [Census_Cost.replace(\"$\",\"\") for Census_Cost in cleansed_cost_list] \n",
        "cleansed_cost_list = [Census_Cost.replace(\" Billion\",\"000000000000\") for Census_Cost in cleansed_cost_list] \n",
        "cleansed_cost_list = [Census_Cost.replace(\".50\",\"5\") for Census_Cost in cleansed_cost_list]"
      ],
      "metadata": {
        "id": "9lFSyyrTEGSW"
      },
      "execution_count": 13,
      "outputs": []
    },
    {
      "cell_type": "markdown",
      "source": [
        "# Extract the \"Average Cost per Person\" column from the data_list and assign them to a list named \"avg_list\". Remove the \"cents\", and \"$\". Make sure to divide the numbers in cents by 100 so that all numbers are measured in dollar. Print the cleansed avg_list."
      ],
      "metadata": {
        "id": "2H_QSDYzE9ic"
      }
    },
    {
      "cell_type": "code",
      "source": [
        "avg_list = [line.split(\"\\t\")[3] for line in data_list]\n",
        "cleansed_avg_list = [avg_cost.replace(\"$\",\"\") for avg_cost in avg_list] \n",
        "cleansed_avg_list = [avg_cost.replace(\"cents\\n\",\"\") for avg_cost in cleansed_avg_list] \n",
        "cleansed_avg_list = [avg_cost.replace(\"\\n\",\"\") for avg_cost in cleansed_avg_list]\n",
        "cleansed_avg_list = [float(avg) for avg in cleansed_avg_list]\n",
        "cleansed_avg_list = [avg/100 for avg in cleansed_avg_list]"
      ],
      "metadata": {
        "id": "f5TmWFOYEJO2"
      },
      "execution_count": 14,
      "outputs": []
    },
    {
      "cell_type": "markdown",
      "source": [
        "# Writting cleaned data in to a new data frame"
      ],
      "metadata": {
        "id": "VmyBQuviE-7w"
      }
    },
    {
      "cell_type": "code",
      "source": [
        "with open(\"/content/census_costs.csv\", \"w\") as f:\n",
        "    f.writelines(top2_list)\n",
        "\n",
        "    for i in range(len(cleansed_year_list)):\n",
        "      f.write(cleansed_year_list[i])\n",
        "      f.write(\",\")\n",
        "      f.write(cleansed_pop_list[i])\n",
        "      f.write(\",\")\n",
        "      f.write(cleansed_cost_list[i])\n",
        "      f.write(\",\")\n",
        "      f.write(str(cleansed_avg_list[i]))\n",
        "\n",
        "      if i != len((cleansed_year_list)) - 1:\n",
        "           f.write(\"\\n\")\n"
      ],
      "metadata": {
        "id": "F5yHlJ0tEMFY"
      },
      "execution_count": 15,
      "outputs": []
    },
    {
      "cell_type": "markdown",
      "source": [
        "# Displaying the newly created data frame"
      ],
      "metadata": {
        "id": "a6eUaCqTFAit"
      }
    },
    {
      "cell_type": "code",
      "source": [
        "from os import defpath\n",
        "with open(\"/content/census_costs.csv\", \"r\") as cfile:\n",
        "    df = cfile.readlines()\n",
        "\n",
        "df"
      ],
      "metadata": {
        "colab": {
          "base_uri": "https://localhost:8080/"
        },
        "id": "dTBDk5-gEPJI",
        "outputId": "6c423271-48ae-4803-a909-eb079b6e56a3"
      },
      "execution_count": 16,
      "outputs": [
        {
          "output_type": "execute_result",
          "data": {
            "text/plain": [
              "['Census Year\\tTotal Population\\tCensus Cost\\tAverage Cost Per Person\\n',\n",
              " '1790\\t3,929,214\\t$44,377\\t1.13 cents\\n',\n",
              " '1800,5308483,66109,0.0124\\n',\n",
              " '1810,7239881,178445,0.0246\\n',\n",
              " '1820,9633822,208526,0.0216\\n',\n",
              " '1830,12866020,378545,0.0294\\n',\n",
              " '1840,17069458,833371,0.048799999999999996\\n',\n",
              " '1850,23191876,1423351,0.061399999999999996\\n',\n",
              " '1860,31443321,1969377,0.0626\\n',\n",
              " '1870,38558371,3421198,0.08869999999999999\\n',\n",
              " '1880,50155783,5790678,0.11539999999999999\\n',\n",
              " '1890,62979766,11547127,0.1833\\n',\n",
              " '1900,76303387,11854000,0.15539999999999998\\n',\n",
              " '1910,91972266,15968000,0.1707\\n',\n",
              " '1920,105710620,25117000,0.2376\\n',\n",
              " '1930,122775046,40156000,0.3271\\n',\n",
              " '1940,131669275,67527000,0.5129\\n',\n",
              " '1950,151325798,91462000,0.6043999999999999\\n',\n",
              " '1960,179323175,127934000,0.7134\\n',\n",
              " '1970,203302031,247653000,0.012199999999999999\\n',\n",
              " '1980,226542199,1078488000,0.047599999999999996\\n',\n",
              " '1990,248718301,2492830000,0.1002\\n',\n",
              " '2000,281421906,4500000000000,0.15990000000000001\\n',\n",
              " '2010,308745538,13000000000000,0.4211\\n',\n",
              " '2020,331449281,14.2000000000000,0.42840000000000006']"
            ]
          },
          "metadata": {},
          "execution_count": 16
        }
      ]
    }
  ]
}