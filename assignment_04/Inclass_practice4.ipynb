{
  "nbformat": 4,
  "nbformat_minor": 0,
  "metadata": {
    "colab": {
      "name": "Inclass_practice4.ipynb",
      "provenance": [],
      "authorship_tag": "ABX9TyOyc5nKl0QhHnMbWn+nQfj+",
      "include_colab_link": true
    },
    "kernelspec": {
      "name": "python3",
      "display_name": "Python 3"
    },
    "language_info": {
      "name": "python"
    }
  },
  "cells": [
    {
      "cell_type": "markdown",
      "metadata": {
        "id": "view-in-github",
        "colab_type": "text"
      },
      "source": [
        "<a href=\"https://colab.research.google.com/github/NikhithaAlla/Nikhitha_Data690/blob/main/assignment_04/Inclass_practice4.ipynb\" target=\"_parent\"><img src=\"https://colab.research.google.com/assets/colab-badge.svg\" alt=\"Open In Colab\"/></a>"
      ]
    },
    {
      "cell_type": "code",
      "execution_count": 2,
      "metadata": {
        "colab": {
          "base_uri": "https://localhost:8080/"
        },
        "id": "Wz2bzESN0Yb3",
        "outputId": "28a4de97-6db7-4ccb-f7ca-a29fb810011d"
      },
      "outputs": [
        {
          "output_type": "stream",
          "name": "stdout",
          "text": [
            "\n",
            " @ 6 8 4 0 @ @ @ @ @ \n",
            " @ @ 8 @ @ 2 @ @ @ @ \n",
            " 2 4 8 8 @ 2 6 4 6 0 \n",
            " @ @ @ @ 4 4 0 @ 4 @ \n",
            " @ 8 @ @ @ @ 8 @ 2 6 \n",
            " 2 0 8 @ 6 @ 4 4 @ 2 \n",
            " @ 6 0 @ 0 @ 6 0 @ 0 \n",
            " 2 @ 0 2 2 @ 4 @ 0 @ \n",
            " 8 @ @ @ @ @ 2 @ @ @ \n",
            " @ 6 @ 2 @ 2 4 8 @ 2 "
          ]
        }
      ],
      "source": [
        "import random\n",
        "import re\n",
        "for i in range(0,10):\n",
        "    print(end=\"\\n \")\n",
        "    for j in range(0,10):\n",
        "        num=random.randint(0,9)\n",
        "        if (num % 2) == 0:\n",
        "            print(num, end=\" \")\n",
        "        else:\n",
        "            strnum = str(num)\n",
        "            strnum=strnum.replace(strnum,\"@\")\n",
        "            print(strnum, end=\" \")"
      ]
    },
    {
      "cell_type": "code",
      "source": [
        "x = \"hello wporld!\"\n",
        "\n",
        "print(x)"
      ],
      "metadata": {
        "colab": {
          "base_uri": "https://localhost:8080/"
        },
        "id": "PH-h8GQZ1Uv6",
        "outputId": "fae7cc24-f52d-4125-9cd6-93d7691a1fa8"
      },
      "execution_count": 3,
      "outputs": [
        {
          "output_type": "stream",
          "name": "stdout",
          "text": [
            "hello wporld!\n"
          ]
        }
      ]
    },
    {
      "cell_type": "code",
      "source": [
        "x = x.replace('p',\"\")\n",
        "\n",
        "print(x)"
      ],
      "metadata": {
        "colab": {
          "base_uri": "https://localhost:8080/"
        },
        "id": "6wri53KM1VEK",
        "outputId": "31dd25e8-33d9-433f-df4b-d768d9178e9a"
      },
      "execution_count": 6,
      "outputs": [
        {
          "output_type": "stream",
          "name": "stdout",
          "text": [
            "hello world!\n"
          ]
        }
      ]
    },
    {
      "cell_type": "code",
      "source": [
        "x = x.replace('hello',\"hi\")\n",
        "\n",
        "print(x)"
      ],
      "metadata": {
        "colab": {
          "base_uri": "https://localhost:8080/"
        },
        "id": "GWoh9U361VPP",
        "outputId": "5f75724b-25b4-4eba-d4b2-fef686bea840"
      },
      "execution_count": 7,
      "outputs": [
        {
          "output_type": "stream",
          "name": "stdout",
          "text": [
            "hi world!\n"
          ]
        }
      ]
    },
    {
      "cell_type": "code",
      "source": [
        "#  generate 100 number first\n",
        "numbers=[]     # This list is to hold 100 random numbers\n",
        "for i in range(100):\n",
        "    numbers.append(random.randint(0, 9))\n",
        "print(numbers)\n",
        "print(len(numbers))\n",
        "     "
      ],
      "metadata": {
        "colab": {
          "base_uri": "https://localhost:8080/"
        },
        "id": "DsggX9PD1VaA",
        "outputId": "773a1bdb-4c6f-4520-df61-6c046476465f"
      },
      "execution_count": 8,
      "outputs": [
        {
          "output_type": "stream",
          "name": "stdout",
          "text": [
            "[9, 7, 1, 6, 0, 0, 9, 6, 5, 8, 9, 3, 6, 1, 8, 5, 7, 4, 7, 2, 8, 5, 7, 1, 4, 4, 3, 6, 9, 7, 7, 1, 0, 7, 3, 8, 0, 7, 0, 9, 4, 5, 1, 9, 8, 3, 0, 8, 7, 0, 0, 2, 5, 0, 6, 6, 4, 2, 7, 7, 8, 5, 9, 9, 8, 7, 1, 3, 1, 5, 4, 7, 4, 2, 4, 9, 4, 3, 0, 4, 7, 8, 9, 7, 0, 3, 7, 3, 5, 5, 8, 1, 1, 1, 7, 6, 5, 8, 5, 5]\n",
            "100\n"
          ]
        }
      ]
    },
    {
      "cell_type": "code",
      "source": [
        "for i in range(0,100,1):\n",
        "     print(\"index = \",i,\"number = \",numbers[i])"
      ],
      "metadata": {
        "colab": {
          "base_uri": "https://localhost:8080/"
        },
        "id": "QWakln7E2Bwa",
        "outputId": "2c27b1d1-ba30-471f-fc9f-30b9b05df1e2"
      },
      "execution_count": 10,
      "outputs": [
        {
          "output_type": "stream",
          "name": "stdout",
          "text": [
            "index =  0 number =  9\n",
            "index =  1 number =  7\n",
            "index =  2 number =  1\n",
            "index =  3 number =  6\n",
            "index =  4 number =  0\n",
            "index =  5 number =  0\n",
            "index =  6 number =  9\n",
            "index =  7 number =  6\n",
            "index =  8 number =  5\n",
            "index =  9 number =  8\n",
            "index =  10 number =  9\n",
            "index =  11 number =  3\n",
            "index =  12 number =  6\n",
            "index =  13 number =  1\n",
            "index =  14 number =  8\n",
            "index =  15 number =  5\n",
            "index =  16 number =  7\n",
            "index =  17 number =  4\n",
            "index =  18 number =  7\n",
            "index =  19 number =  2\n",
            "index =  20 number =  8\n",
            "index =  21 number =  5\n",
            "index =  22 number =  7\n",
            "index =  23 number =  1\n",
            "index =  24 number =  4\n",
            "index =  25 number =  4\n",
            "index =  26 number =  3\n",
            "index =  27 number =  6\n",
            "index =  28 number =  9\n",
            "index =  29 number =  7\n",
            "index =  30 number =  7\n",
            "index =  31 number =  1\n",
            "index =  32 number =  0\n",
            "index =  33 number =  7\n",
            "index =  34 number =  3\n",
            "index =  35 number =  8\n",
            "index =  36 number =  0\n",
            "index =  37 number =  7\n",
            "index =  38 number =  0\n",
            "index =  39 number =  9\n",
            "index =  40 number =  4\n",
            "index =  41 number =  5\n",
            "index =  42 number =  1\n",
            "index =  43 number =  9\n",
            "index =  44 number =  8\n",
            "index =  45 number =  3\n",
            "index =  46 number =  0\n",
            "index =  47 number =  8\n",
            "index =  48 number =  7\n",
            "index =  49 number =  0\n",
            "index =  50 number =  0\n",
            "index =  51 number =  2\n",
            "index =  52 number =  5\n",
            "index =  53 number =  0\n",
            "index =  54 number =  6\n",
            "index =  55 number =  6\n",
            "index =  56 number =  4\n",
            "index =  57 number =  2\n",
            "index =  58 number =  7\n",
            "index =  59 number =  7\n",
            "index =  60 number =  8\n",
            "index =  61 number =  5\n",
            "index =  62 number =  9\n",
            "index =  63 number =  9\n",
            "index =  64 number =  8\n",
            "index =  65 number =  7\n",
            "index =  66 number =  1\n",
            "index =  67 number =  3\n",
            "index =  68 number =  1\n",
            "index =  69 number =  5\n",
            "index =  70 number =  4\n",
            "index =  71 number =  7\n",
            "index =  72 number =  4\n",
            "index =  73 number =  2\n",
            "index =  74 number =  4\n",
            "index =  75 number =  9\n",
            "index =  76 number =  4\n",
            "index =  77 number =  3\n",
            "index =  78 number =  0\n",
            "index =  79 number =  4\n",
            "index =  80 number =  7\n",
            "index =  81 number =  8\n",
            "index =  82 number =  9\n",
            "index =  83 number =  7\n",
            "index =  84 number =  0\n",
            "index =  85 number =  3\n",
            "index =  86 number =  7\n",
            "index =  87 number =  3\n",
            "index =  88 number =  5\n",
            "index =  89 number =  5\n",
            "index =  90 number =  8\n",
            "index =  91 number =  1\n",
            "index =  92 number =  1\n",
            "index =  93 number =  1\n",
            "index =  94 number =  7\n",
            "index =  95 number =  6\n",
            "index =  96 number =  5\n",
            "index =  97 number =  8\n",
            "index =  98 number =  5\n",
            "index =  99 number =  5\n"
          ]
        }
      ]
    },
    {
      "cell_type": "code",
      "source": [
        "\n",
        "count=0\n",
        "for i in range(10):\n",
        "    for j in range(10):\n",
        "        print(numbers[count],\" \", end =\" \")\n",
        "        count+=1\n",
        "    print(\"\\n\")"
      ],
      "metadata": {
        "colab": {
          "base_uri": "https://localhost:8080/"
        },
        "id": "JG-mlzcc2CAl",
        "outputId": "fc473f80-2516-4b9a-b0b3-116dddf801ed"
      },
      "execution_count": 11,
      "outputs": [
        {
          "output_type": "stream",
          "name": "stdout",
          "text": [
            "9   7   1   6   0   0   9   6   5   8   \n",
            "\n",
            "9   3   6   1   8   5   7   4   7   2   \n",
            "\n",
            "8   5   7   1   4   4   3   6   9   7   \n",
            "\n",
            "7   1   0   7   3   8   0   7   0   9   \n",
            "\n",
            "4   5   1   9   8   3   0   8   7   0   \n",
            "\n",
            "0   2   5   0   6   6   4   2   7   7   \n",
            "\n",
            "8   5   9   9   8   7   1   3   1   5   \n",
            "\n",
            "4   7   4   2   4   9   4   3   0   4   \n",
            "\n",
            "7   8   9   7   0   3   7   3   5   5   \n",
            "\n",
            "8   1   1   1   7   6   5   8   5   5   \n",
            "\n"
          ]
        }
      ]
    },
    {
      "cell_type": "code",
      "source": [
        ""
      ],
      "metadata": {
        "id": "lJM2vtS72CPC"
      },
      "execution_count": null,
      "outputs": []
    },
    {
      "cell_type": "code",
      "source": [
        ""
      ],
      "metadata": {
        "id": "cxSTFHod2CX1"
      },
      "execution_count": null,
      "outputs": []
    },
    {
      "cell_type": "code",
      "source": [
        "x = [0,0,0,0,0,0]\n",
        "print(x)"
      ],
      "metadata": {
        "colab": {
          "base_uri": "https://localhost:8080/"
        },
        "id": "FZlYpHz52Ck9",
        "outputId": "0311f624-8cac-45ae-f702-bec0e9876344"
      },
      "execution_count": 12,
      "outputs": [
        {
          "output_type": "stream",
          "name": "stdout",
          "text": [
            "[0, 0, 0, 0, 0, 0]\n"
          ]
        }
      ]
    },
    {
      "cell_type": "code",
      "source": [
        "x = [0] * 6\n",
        "\n",
        "print(x)"
      ],
      "metadata": {
        "colab": {
          "base_uri": "https://localhost:8080/"
        },
        "id": "9_aYPu3C2DFU",
        "outputId": "176f4db4-a6b2-42ff-a1c5-1809323277c7"
      },
      "execution_count": 13,
      "outputs": [
        {
          "output_type": "stream",
          "name": "stdout",
          "text": [
            "[0, 0, 0, 0, 0, 0]\n"
          ]
        }
      ]
    },
    {
      "cell_type": "code",
      "source": [
        "x = [0] * 100\n",
        "\n",
        "print(x)"
      ],
      "metadata": {
        "colab": {
          "base_uri": "https://localhost:8080/"
        },
        "id": "pR936huF2DbA",
        "outputId": "08739407-1c12-41c0-fafc-7e19fffeefcc"
      },
      "execution_count": 14,
      "outputs": [
        {
          "output_type": "stream",
          "name": "stdout",
          "text": [
            "[0, 0, 0, 0, 0, 0, 0, 0, 0, 0, 0, 0, 0, 0, 0, 0, 0, 0, 0, 0, 0, 0, 0, 0, 0, 0, 0, 0, 0, 0, 0, 0, 0, 0, 0, 0, 0, 0, 0, 0, 0, 0, 0, 0, 0, 0, 0, 0, 0, 0, 0, 0, 0, 0, 0, 0, 0, 0, 0, 0, 0, 0, 0, 0, 0, 0, 0, 0, 0, 0, 0, 0, 0, 0, 0, 0, 0, 0, 0, 0, 0, 0, 0, 0, 0, 0, 0, 0, 0, 0, 0, 0, 0, 0, 0, 0, 0, 0, 0, 0]\n"
          ]
        }
      ]
    },
    {
      "cell_type": "code",
      "source": [
        ""
      ],
      "metadata": {
        "id": "H2nzamd32DmD"
      },
      "execution_count": null,
      "outputs": []
    },
    {
      "cell_type": "code",
      "source": [
        ""
      ],
      "metadata": {
        "id": "J8FZajVA7rYx"
      },
      "execution_count": null,
      "outputs": []
    },
    {
      "cell_type": "code",
      "source": [
        ""
      ],
      "metadata": {
        "id": "m-XXNZrd7roH"
      },
      "execution_count": null,
      "outputs": []
    }
  ]
}